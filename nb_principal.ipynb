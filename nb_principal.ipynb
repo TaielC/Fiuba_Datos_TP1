{
 "cells": [
  {
   "cell_type": "code",
   "execution_count": 3,
   "metadata": {},
   "outputs": [],
   "source": [
    "import pandas as pd\n",
    "import numpy as np\n",
    "import matplotlib.pyplot as plt\n",
    "import datetime as dt\n",
    "import seaborn as sns\n",
    "# import folium as folium\n",
    "# from os import path\n",
    "# from PIL import Image\n",
    "# from wordcloud import WordCloud, STOPWORDS, ImageColorGenerator\n",
    "# from matplotlib_venn import venn3, venn3_circles"
   ]
  },
  {
   "cell_type": "markdown",
   "metadata": {},
   "source": [
    "# TP1"
   ]
  },
  {
   "cell_type": "code",
   "execution_count": 6,
   "metadata": {},
   "outputs": [],
   "source": [
    "df_original = pd.read_csv(\"train.csv\", dtype={\n",
    "    'tipodepropiedad':'category', 'ciudad':'category',\\\n",
    "    'provincia':'category', 'gimnasio':'bool', 'usosmultiples':'bool',\\\n",
    "    'piscina':'bool', 'escuelascercanas':'bool',\\\n",
    "    'centroscomercialescercanos':'bool' }, parse_dates=[16])"
   ]
  },
  {
   "cell_type": "code",
   "execution_count": 7,
   "metadata": {},
   "outputs": [],
   "source": [
    "# Renombramos convenientemente algunas columnas\n",
    "df_original = df_original.rename(columns={'tipodepropiedad':'tipo', 'habitaciones':'cant_habitaciones', 'garages':'cant_garages', 'banos':'cant_banios',\n",
    "       'lat':'latitud', 'lng':'longitud'})"
   ]
  },
  {
   "cell_type": "code",
   "execution_count": 8,
   "metadata": {},
   "outputs": [
    {
     "data": {
      "text/plain": [
       "Index(['id', 'titulo', 'descripcion', 'tipo', 'direccion', 'ciudad',\n",
       "       'provincia', 'antiguedad', 'cant_habitaciones', 'cant_garages',\n",
       "       'cant_banios', 'metroscubiertos', 'metrostotales', 'idzona', 'latitud',\n",
       "       'longitud', 'fecha', 'gimnasio', 'usosmultiples', 'piscina',\n",
       "       'escuelascercanas', 'centroscomercialescercanos', 'precio'],\n",
       "      dtype='object')"
      ]
     },
     "execution_count": 8,
     "metadata": {},
     "output_type": "execute_result"
    }
   ],
   "source": [
    "df_original.columns"
   ]
  },
  {
   "cell_type": "code",
   "execution_count": 9,
   "metadata": {},
   "outputs": [],
   "source": [
    "# Identificamos para cada columna qué porcentaje de los datos de cada columna son nulos \n",
    "\n",
    "porcentajes = df_original.isna().sum()/len(df_original.index)"
   ]
  },
  {
   "cell_type": "code",
   "execution_count": 10,
   "metadata": {},
   "outputs": [
    {
     "data": {
      "text/plain": [
       "<matplotlib.axes._subplots.AxesSubplot at 0x7f28ebe669e8>"
      ]
     },
     "execution_count": 10,
     "metadata": {},
     "output_type": "execute_result"
    },
    {
     "data": {
      "image/png": "[encoded data removed]",
      "text/plain": [
       "<matplotlib.figure.Figure at 0x7f2923c23ef0>"
      ]
     },
     "metadata": {
      "needs_background": "light"
     },
     "output_type": "display_data"
    }
   ],
   "source": [
    "porcentajes_mayores_1 = porcentajes[porcentajes >= 0.01]\n",
    "porcentajes_mayores_1.plot(kind='bar')"
   ]
  },
  {
   "cell_type": "code",
   "execution_count": 11,
   "metadata": {},
   "outputs": [
    {
     "data": {
      "text/plain": [
       "<matplotlib.axes._subplots.AxesSubplot at 0x7f28ec776940>"
      ]
     },
     "execution_count": 11,
     "metadata": {},
     "output_type": "execute_result"
    },
    {
     "data": {
      "image/png": "[encoded data removed]",
      "text/plain": [
       "<matplotlib.figure.Figure at 0x7f28e66c6828>"
      ]
     },
     "metadata": {
      "needs_background": "light"
     },
     "output_type": "display_data"
    }
   ],
   "source": [
    "porcentajes_menores_1 = porcentajes[porcentajes < 0.01]\n",
    "porcentajes_menores_1.plot(kind='bar')"
   ]
  },
  {
   "cell_type": "code",
   "execution_count": 12,
   "metadata": {},
   "outputs": [],
   "source": [
    "df_original['anio'] = df_original['fecha'].dt.year"
   ]
  },
  {
   "cell_type": "code",
   "execution_count": 13,
   "metadata": {},
   "outputs": [],
   "source": [
    "df_original['mes'] = df_original['fecha'].dt.month"
   ]
  },
  {
   "cell_type": "code",
   "execution_count": 14,
   "metadata": {},
   "outputs": [
    {
     "data": {
      "text/plain": [
       "0         2015\n",
       "1         2013\n",
       "2         2015\n",
       "3         2012\n",
       "4         2016\n",
       "5         2014\n",
       "6         2016\n",
       "7         2016\n",
       "8         2014\n",
       "9         2016\n",
       "10        2013\n",
       "11        2014\n",
       "12        2013\n",
       "13        2015\n",
       "14        2014\n",
       "15        2015\n",
       "16        2013\n",
       "17        2016\n",
       "18        2016\n",
       "19        2016\n",
       "20        2013\n",
       "21        2016\n",
       "22        2013\n",
       "23        2015\n",
       "24        2013\n",
       "25        2016\n",
       "26        2014\n",
       "27        2012\n",
       "28        2015\n",
       "29        2016\n",
       "          ... \n",
       "239970    2016\n",
       "239971    2016\n",
       "239972    2016\n",
       "239973    2013\n",
       "239974    2015\n",
       "239975    2014\n",
       "239976    2015\n",
       "239977    2015\n",
       "239978    2016\n",
       "239979    2016\n",
       "239980    2016\n",
       "239981    2012\n",
       "239982    2016\n",
       "239983    2016\n",
       "239984    2016\n",
       "239985    2016\n",
       "239986    2013\n",
       "239987    2015\n",
       "239988    2015\n",
       "239989    2016\n",
       "239990    2014\n",
       "239991    2015\n",
       "239992    2015\n",
       "239993    2015\n",
       "239994    2013\n",
       "239995    2015\n",
       "239996    2014\n",
       "239997    2015\n",
       "239998    2014\n",
       "239999    2015\n",
       "Name: anio, Length: 240000, dtype: int64"
      ]
     },
     "execution_count": 14,
     "metadata": {},
     "output_type": "execute_result"
    }
   ],
   "source": [
    "df_original.anio"
   ]
  },
  {
   "cell_type": "code",
   "execution_count": 15,
   "metadata": {},
   "outputs": [
    {
     "data": {
      "text/plain": [
       "0          8\n",
       "1          6\n",
       "2         10\n",
       "3          3\n",
       "4          6\n",
       "5          3\n",
       "6          2\n",
       "7         10\n",
       "8          1\n",
       "9         12\n",
       "10         1\n",
       "11        12\n",
       "12         8\n",
       "13         3\n",
       "14        11\n",
       "15         1\n",
       "16         3\n",
       "17        10\n",
       "18        12\n",
       "19         1\n",
       "20        12\n",
       "21         2\n",
       "22        12\n",
       "23         5\n",
       "24         9\n",
       "25        12\n",
       "26         7\n",
       "27         3\n",
       "28         1\n",
       "29        12\n",
       "          ..\n",
       "239970    12\n",
       "239971    12\n",
       "239972     1\n",
       "239973     2\n",
       "239974     8\n",
       "239975     4\n",
       "239976     2\n",
       "239977     4\n",
       "239978    10\n",
       "239979     3\n",
       "239980    12\n",
       "239981    11\n",
       "239982     2\n",
       "239983     2\n",
       "239984     7\n",
       "239985    12\n",
       "239986     9\n",
       "239987    10\n",
       "239988    11\n",
       "239989     9\n",
       "239990     4\n",
       "239991     3\n",
       "239992    11\n",
       "239993     3\n",
       "239994     7\n",
       "239995     2\n",
       "239996     7\n",
       "239997     3\n",
       "239998    12\n",
       "239999     6\n",
       "Name: mes, Length: 240000, dtype: int64"
      ]
     },
     "execution_count": 15,
     "metadata": {},
     "output_type": "execute_result"
    }
   ],
   "source": [
    "df_original.mes"
   ]
  },
  {
   "cell_type": "markdown",
   "metadata": {},
   "source": [
    "Comparar el siguiente gráfico con la inflación en Mexico\n",
    "[https://www.focus-economics.com/country-indicator/mexico/inflation]\n",
    "[https://www.inflation.eu/inflation-rates/mexico/historic-inflation/cpi-inflation-mexico.aspx]\n",
    "[https://www.globalpropertyguide.com/Latin-America/mexico/Price-History]"
   ]
  },
  {
   "cell_type": "code",
   "execution_count": 16,
   "metadata": {},
   "outputs": [
    {
     "data": {
      "image/png": "[encoded data removed]",
      "text/plain": [
       "<matplotlib.figure.Figure at 0x7f28ebaea7b8>"
      ]
     },
     "metadata": {
      "needs_background": "light"
     },
     "output_type": "display_data"
    }
   ],
   "source": [
    "mes_x_anio = df_original.pivot_table(index='anio', columns='mes', values='precio', aggfunc='mean')\n",
    "g = sns.heatmap(mes_x_anio)"
   ]
  },
  {
   "cell_type": "code",
   "execution_count": 17,
   "metadata": {},
   "outputs": [
    {
     "data": {
      "text/plain": [
       "<matplotlib.axes._subplots.AxesSubplot at 0x7f28eb40f2e8>"
      ]
     },
     "execution_count": 17,
     "metadata": {},
     "output_type": "execute_result"
    },
    {
     "data": {
      "image/png": "[encoded data removed]",
      "text/plain": [
       "<matplotlib.figure.Figure at 0x7f28eb487358>"
      ]
     },
     "metadata": {
      "needs_background": "light"
     },
     "output_type": "display_data"
    }
   ],
   "source": [
    "# Precio promedio por tipo\n",
    "df_original.groupby('tipo').agg({'precio':'mean'}).sort_values('precio').plot(kind='bar')"
   ]
  },
  {
   "cell_type": "code",
   "execution_count": 18,
   "metadata": {},
   "outputs": [
    {
     "name": "stderr",
     "output_type": "stream",
     "text": [
      "/usr/lib/python3/dist-packages/seaborn/categorical.py:1460: FutureWarning: remove_na is deprecated and is a private function. Do not use.\n",
      "  stat_data = remove_na(group_data)\n"
     ]
    },
    {
     "data": {
      "text/plain": [
       "Text(0.5,1,'Cantidad total de propiedades')"
      ]
     },
     "execution_count": 18,
     "metadata": {},
     "output_type": "execute_result"
    },
    {
     "data": {
      "image/png": "[encoded data removed]",
      "text/plain": [
       "<matplotlib.figure.Figure at 0x7f28ebe7bcf8>"
      ]
     },
     "metadata": {
      "needs_background": "light"
     },
     "output_type": "display_data"
    }
   ],
   "source": [
    "g = sns.countplot(x='tipo', data=df_original, order=df_original['tipo'].value_counts().index, orient='v')\n",
    "g.set_xticklabels(g.get_xticklabels(),rotation=90)\n",
    "g.set_xlabel(\"Tipo de propiedad\", fontsize=15)\n",
    "g.set_ylabel(\"Cantidad\", fontsize=15)\n",
    "g.set_title(\"Cantidad total de propiedades\", fontsize=15)"
   ]
  },
  {
   "cell_type": "code",
   "execution_count": null,
   "metadata": {},
   "outputs": [],
   "source": []
  },
  {
   "cell_type": "markdown",
   "metadata": {},
   "source": [
    "# Filtracion"
   ]
  },
  {
   "cell_type": "code",
   "execution_count": 19,
   "metadata": {},
   "outputs": [],
   "source": [
    "## funcion para setear los superficies\n",
    "def set_metros(row):\n",
    "    total = row.metrostotales\n",
    "    covered = row.metroscubiertos\n",
    "    if np.isnan(total):\n",
    "        row.metrostotales = covered\n",
    "        return row\n",
    "    if np.isnan(covered):\n",
    "        row.metroscubiertos = total\n",
    "        return row\n",
    "    return row"
   ]
  },
  {
   "cell_type": "code",
   "execution_count": 20,
   "metadata": {},
   "outputs": [],
   "source": [
    "df_filtrado_metro = df_original.copy()\n",
    "df_filtrado_metro = df_filtrado_metro.apply(set_metros, axis = 1)"
   ]
  },
  {
   "cell_type": "code",
   "execution_count": 21,
   "metadata": {},
   "outputs": [
    {
     "name": "stdout",
     "output_type": "stream",
     "text": [
      "<class 'pandas.core.frame.DataFrame'>\n",
      "RangeIndex: 240000 entries, 0 to 239999\n",
      "Data columns (total 25 columns):\n",
      "id                            240000 non-null int64\n",
      "titulo                        234613 non-null object\n",
      "descripcion                   238381 non-null object\n",
      "tipo                          239954 non-null category\n",
      "direccion                     186928 non-null object\n",
      "ciudad                        239628 non-null category\n",
      "provincia                     239845 non-null category\n",
      "antiguedad                    196445 non-null float64\n",
      "cant_habitaciones             217529 non-null float64\n",
      "cant_garages                  202235 non-null float64\n",
      "cant_banios                   213779 non-null float64\n",
      "metroscubiertos               222600 non-null float64\n",
      "metrostotales                 188533 non-null float64\n",
      "idzona                        211379 non-null float64\n",
      "latitud                       116512 non-null float64\n",
      "longitud                      116512 non-null float64\n",
      "fecha                         240000 non-null datetime64[ns]\n",
      "gimnasio                      240000 non-null bool\n",
      "usosmultiples                 240000 non-null bool\n",
      "piscina                       240000 non-null bool\n",
      "escuelascercanas              240000 non-null bool\n",
      "centroscomercialescercanos    240000 non-null bool\n",
      "precio                        240000 non-null float64\n",
      "anio                          240000 non-null int64\n",
      "mes                           240000 non-null int64\n",
      "dtypes: bool(5), category(3), datetime64[ns](1), float64(10), int64(3), object(3)\n",
      "memory usage: 33.2+ MB\n"
     ]
    }
   ],
   "source": [
    "# chequeo las infos antes de filtrar\n",
    "df_original.info()"
   ]
  },
  {
   "cell_type": "code",
   "execution_count": 22,
   "metadata": {},
   "outputs": [
    {
     "name": "stdout",
     "output_type": "stream",
     "text": [
      "<class 'pandas.core.frame.DataFrame'>\n",
      "RangeIndex: 240000 entries, 0 to 239999\n",
      "Data columns (total 25 columns):\n",
      "id                            240000 non-null int64\n",
      "titulo                        234613 non-null object\n",
      "descripcion                   238381 non-null object\n",
      "tipo                          239954 non-null object\n",
      "direccion                     186928 non-null object\n",
      "ciudad                        239628 non-null object\n",
      "provincia                     239845 non-null object\n",
      "antiguedad                    196445 non-null float64\n",
      "cant_habitaciones             217529 non-null float64\n",
      "cant_garages                  202235 non-null float64\n",
      "cant_banios                   213779 non-null float64\n",
      "metroscubiertos               240000 non-null float64\n",
      "metrostotales                 240000 non-null float64\n",
      "idzona                        211379 non-null float64\n",
      "latitud                       116512 non-null float64\n",
      "longitud                      116512 non-null float64\n",
      "fecha                         240000 non-null datetime64[ns]\n",
      "gimnasio                      240000 non-null bool\n",
      "usosmultiples                 240000 non-null bool\n",
      "piscina                       240000 non-null bool\n",
      "escuelascercanas              240000 non-null bool\n",
      "centroscomercialescercanos    240000 non-null bool\n",
      "precio                        240000 non-null float64\n",
      "anio                          240000 non-null int64\n",
      "mes                           240000 non-null int64\n",
      "dtypes: bool(5), datetime64[ns](1), float64(10), int64(3), object(6)\n",
      "memory usage: 37.8+ MB\n"
     ]
    }
   ],
   "source": [
    "## informacion despues de filtrar\n",
    "df_filtrado_metro.info()"
   ]
  },
  {
   "cell_type": "code",
   "execution_count": 23,
   "metadata": {},
   "outputs": [
    {
     "data": {
      "text/plain": [
       "Casa                             0.590601\n",
       "Apartamento                      0.238967\n",
       "Casa en condominio               0.080420\n",
       "Terreno                          0.041445\n",
       "Local Comercial                  0.012732\n",
       "Oficina comercial                0.007256\n",
       "Bodega comercial                 0.005859\n",
       "Edificio                         0.005818\n",
       "Terreno comercial                0.005526\n",
       "Casa uso de suelo                0.002951\n",
       "Quinta Vacacional                0.001646\n",
       "Duplex                           0.001429\n",
       "Villa                            0.001417\n",
       "Inmuebles productivos urbanos    0.000833\n",
       "Rancho                           0.000708\n",
       "Local en centro comercial        0.000688\n",
       "Departamento Compartido          0.000588\n",
       "Otros                            0.000558\n",
       "Nave industrial                  0.000317\n",
       "Terreno industrial               0.000129\n",
       "Huerta                           0.000083\n",
       "Lote                             0.000021\n",
       "Garage                           0.000004\n",
       "Hospedaje                        0.000004\n",
       "Name: tipo, dtype: float64"
      ]
     },
     "execution_count": 23,
     "metadata": {},
     "output_type": "execute_result"
    }
   ],
   "source": [
    "# verificando los percentajes de cada tipo\n",
    "df_filtrado_metro['tipo'].value_counts(normalize = 1)"
   ]
  },
  {
   "cell_type": "markdown",
   "metadata": {},
   "source": [
    "Se puede observar que a partir de Local Comercial, tiene un percentaje menor que 2%, por lo tanto decidimos que agrupar las propiedades que tienen un porcentaje menor que 2% a tipo 'otro'"
   ]
  },
  {
   "cell_type": "code",
   "execution_count": 24,
   "metadata": {},
   "outputs": [],
   "source": [
    "# funcion para setear los tipos\n",
    "def set_tipo(row):\n",
    "    tipo = row.tipo\n",
    "    if tipo == 'Casa' or tipo == 'Apartamento' \\\n",
    "    or tipo == 'Casa en condominio' or tipo == 'Terreno':\n",
    "        return row\n",
    "    else:\n",
    "        row.tipo = 'Otros'\n",
    "        return row\n",
    "    return row"
   ]
  },
  {
   "cell_type": "code",
   "execution_count": 25,
   "metadata": {},
   "outputs": [],
   "source": [
    "df_filtrado_tipo = df_filtrado_metro.copy()\n",
    "df_filtrado_tipo = df_filtrado_tipo.apply(set_tipo, axis = 1)"
   ]
  },
  {
   "cell_type": "code",
   "execution_count": 26,
   "metadata": {},
   "outputs": [
    {
     "name": "stdout",
     "output_type": "stream",
     "text": [
      "<class 'pandas.core.frame.DataFrame'>\n",
      "RangeIndex: 240000 entries, 0 to 239999\n",
      "Data columns (total 25 columns):\n",
      "id                            240000 non-null int64\n",
      "titulo                        234613 non-null object\n",
      "descripcion                   238381 non-null object\n",
      "tipo                          240000 non-null object\n",
      "direccion                     186928 non-null object\n",
      "ciudad                        239628 non-null object\n",
      "provincia                     239845 non-null object\n",
      "antiguedad                    196445 non-null float64\n",
      "cant_habitaciones             217529 non-null float64\n",
      "cant_garages                  202235 non-null float64\n",
      "cant_banios                   213779 non-null float64\n",
      "metroscubiertos               240000 non-null float64\n",
      "metrostotales                 240000 non-null float64\n",
      "idzona                        211379 non-null float64\n",
      "latitud                       116512 non-null float64\n",
      "longitud                      116512 non-null float64\n",
      "fecha                         240000 non-null datetime64[ns]\n",
      "gimnasio                      240000 non-null bool\n",
      "usosmultiples                 240000 non-null bool\n",
      "piscina                       240000 non-null bool\n",
      "escuelascercanas              240000 non-null bool\n",
      "centroscomercialescercanos    240000 non-null bool\n",
      "precio                        240000 non-null float64\n",
      "anio                          240000 non-null int64\n",
      "mes                           240000 non-null int64\n",
      "dtypes: bool(5), datetime64[ns](1), float64(10), int64(3), object(6)\n",
      "memory usage: 37.8+ MB\n"
     ]
    },
    {
     "data": {
      "text/plain": [
       "Casa                  0.590488\n",
       "Apartamento           0.238921\n",
       "Casa en condominio    0.080404\n",
       "Otros                 0.048750\n",
       "Terreno               0.041438\n",
       "Name: tipo, dtype: float64"
      ]
     },
     "execution_count": 26,
     "metadata": {},
     "output_type": "execute_result"
    }
   ],
   "source": [
    "# verificando los datos despues de filtrar y percentajes de los tipos\n",
    "df_filtrado_tipo.info()\n",
    "df_filtrado_tipo['tipo'].value_counts(normalize = 1)"
   ]
  },
  {
   "cell_type": "markdown",
   "metadata": {},
   "source": [
    "agregando una columna de precio por metros en dollar y genera una nueva data_set con solo'tipo','metrostotales','precio por metros'"
   ]
  },
  {
   "cell_type": "code",
   "execution_count": 27,
   "metadata": {},
   "outputs": [
    {
     "name": "stdout",
     "output_type": "stream",
     "text": [
      "<class 'pandas.core.frame.DataFrame'>\n",
      "RangeIndex: 240000 entries, 0 to 239999\n",
      "Data columns (total 2 columns):\n",
      "tipo                 240000 non-null object\n",
      "precio por metros    240000 non-null float64\n",
      "dtypes: float64(1), object(1)\n",
      "memory usage: 3.7+ MB\n"
     ]
    }
   ],
   "source": [
    "df_filtrado_tipo['precio por metros'] = df_filtrado_tipo.precio/df_filtrado_tipo.metrostotales/50\n",
    "df_filtrado = df_filtrado_tipo.copy()\n",
    "df_tipo_precio = df_filtrado_tipo[['tipo','precio por metros']]\n",
    "df_tipo_precio.info()\n",
    "\n",
    "df_filtrado['precioporm2'] = df_filtrado['precio'] / df_filtrado['metrostotales']"
   ]
  },
  {
   "cell_type": "markdown",
   "metadata": {},
   "source": [
    "## los datos filtrados ahora se llama df_filtrado"
   ]
  },
  {
   "cell_type": "markdown",
   "metadata": {},
   "source": [
    "# Analizando los tipos de propiedades"
   ]
  },
  {
   "cell_type": "code",
   "execution_count": null,
   "metadata": {
    "scrolled": true
   },
   "outputs": [],
   "source": [
    "# un grafico de presentar percentajes de cada tipo\n",
    "df_tipo = df_tipo_precio['tipo'].value_counts().to_frame()\n",
    "df_tipo.plot(kind='pie', subplots=True, figsize=(8, 8), autopct='%1.0f%%',title='Distribucion de tipo')"
   ]
  },
  {
   "cell_type": "code",
   "execution_count": null,
   "metadata": {},
   "outputs": [],
   "source": [
    "#analiza promedio de precio por medio de cada tipo\n",
    "df_tipo_precio.groupby('tipo').agg({'precio por metros':'mean'}).sort_values('precio por metros').plot(kind='bar', title = 'Promedio de precio por metro de cada tipo')"
   ]
  },
  {
   "cell_type": "markdown",
   "metadata": {},
   "source": [
    "Analizando promedio de precio por metro en cada provincia segun el tipo"
   ]
  },
  {
   "cell_type": "code",
   "execution_count": null,
   "metadata": {},
   "outputs": [],
   "source": [
    "#filtrando uno con precio tipo y provincia (falta elegir un mejor grafico)\n",
    "df_tipo_provincia = df_filtrado [['provincia','precio por metros','tipo']]\n",
    "df_tp = df_tipo_provincia.groupby(['tipo','provincia']).agg({'precio por metros' :'mean'})\n",
    "df_tp = df_tp.reset_index()"
   ]
  },
  {
   "cell_type": "code",
   "execution_count": null,
   "metadata": {},
   "outputs": [],
   "source": [
    "g= sns.stripplot(x='provincia', y='precio por metros', hue= 'tipo', data=df_tp, order=None, \n",
    "                      hue_order=None, jitter=True, \n",
    "                      split=False, orient=None, \n",
    "                      color=None, palette=None, size=5, \n",
    "                      edgecolor=\"gray\", linewidth=0, \n",
    "                      ax=None)\n",
    "g.set_xticklabels(g.get_xticklabels(),rotation=90)"
   ]
  },
  {
   "cell_type": "markdown",
   "metadata": {},
   "source": [
    "# Analizando los factores de escuelas y centroscomerciales"
   ]
  },
  {
   "cell_type": "code",
   "execution_count": null,
   "metadata": {},
   "outputs": [],
   "source": [
    "#filtrando dato solo con tipo precio y escuelas cercanas\n",
    "df_escuela = df_filtrado [['tipo','precio por metros', 'escuelascercanas']]\n",
    "df_escuela.head()"
   ]
  },
  {
   "cell_type": "code",
   "execution_count": null,
   "metadata": {},
   "outputs": [],
   "source": [
    "# comparando precio pormedio directamente con el factor de escuela\n",
    "df_ec_precio = df_escuela.groupby('escuelascercanas').agg({'precio por metros' :'mean'})\n",
    "g = df_ec_precio.plot(kind='bar', fontsize = 10)\n",
    "g.set_title(\"Diferencia de precio por medio  con factor escuela\", fontsize=18)\n",
    "g.set_xlabel(\"Tipo de propiedad\", fontsize=18)\n",
    "g.set_ylabel(\"Precio promedio\", fontsize=18)\n",
    "g.set_xticklabels(g.get_xticklabels(),rotation=0)"
   ]
  },
  {
   "cell_type": "code",
   "execution_count": null,
   "metadata": {},
   "outputs": [],
   "source": [
    "# filtrar el factor escuelas con diferentes tipos\n",
    "df_ec_tipo = df_escuela.groupby(['tipo','escuelascercanas']).agg({'precio por metros' :'mean'})\n",
    "df_ec = df_ec_tipo.pivot_table(index=\"tipo\", \\\n",
    "                                 columns=\"escuelascercanas\", \\\n",
    "                                 values=\"precio por metros\", fill_value=0)\n",
    "df_ec = df_ec.reset_index()\n",
    "df_ec.set_index('tipo', inplace=True) \n",
    "df_ec"
   ]
  },
  {
   "cell_type": "code",
   "execution_count": null,
   "metadata": {},
   "outputs": [],
   "source": [
    "# representa en grafico\n",
    "g = df_ec.plot(kind='bar', fontsize = 10)\n",
    "g.set_title(\"Diferencia de precio con factor escuela\", fontsize=18)\n",
    "g.set_xlabel(\"Tipo de propiedad\", fontsize=18)\n",
    "g.set_ylabel(\"Precio promedio\", fontsize=18)"
   ]
  },
  {
   "cell_type": "code",
   "execution_count": null,
   "metadata": {},
   "outputs": [],
   "source": [
    "# filtrar dato con 3 columnas tipo, precio por medio y centroscomerciales\n",
    "df_centrocomercial = df_filtrado [['tipo','precio por metros', 'centroscomercialescercanos']]\n",
    "df_centrocomercial.head()"
   ]
  },
  {
   "cell_type": "code",
   "execution_count": null,
   "metadata": {},
   "outputs": [],
   "source": [
    "#comparando el factor de centro con el promedio de precio\n",
    "df_cc_precio = df_centrocomercial.groupby('centroscomercialescercanos').agg({'precio por metros' :'mean'})\n",
    "g = df_cc_precio.plot(kind='bar', fontsize = 10)\n",
    "g.set_title(\"Diferencia de precio por medio  con factor centro comercial\", fontsize=18)\n",
    "g.set_xlabel(\"Tipo de propiedad\", fontsize=18)\n",
    "g.set_ylabel(\"Precio promedio\", fontsize=18)\n",
    "g.set_xticklabels(g.get_xticklabels(),rotation=0)"
   ]
  },
  {
   "cell_type": "code",
   "execution_count": null,
   "metadata": {},
   "outputs": [],
   "source": [
    "#filtrar el dato de diferentes tipos con el promedio de pr"
   ]
  },
  {
   "cell_type": "markdown",
   "metadata": {},
   "source": [
    "## **Analisis segun antiguedad**"
   ]
  },
  {
   "cell_type": "code",
   "execution_count": null,
   "metadata": {},
   "outputs": [],
   "source": [
    "df_filtrado['tipo'].value_counts()"
   ]
  },
  {
   "cell_type": "code",
   "execution_count": null,
   "metadata": {},
   "outputs": [],
   "source": [
    "#Me quedo con aquellas publicaciones que tengan valores consistentes.\n",
    "\n",
    "df_filtrado_antiguedad = df_filtrado.loc[df_filtrado['metrostotales'] > 0]\n",
    "df_filtrado_antiguedad = df_filtrado_antiguedad.loc[df_filtrado_antiguedad['metroscubiertos'] > 0]\n",
    "\n",
    "#Me quedo con tipos: Casa, Apartamento y Casa en condominio\n",
    "\n",
    "df_filtrado_antiguedad = df_filtrado_antiguedad.loc[(df_filtrado_antiguedad['tipo'] != 'Otros') | (df_filtrado_antiguedad['tipo'] != 'Terreno')]"
   ]
  },
  {
   "cell_type": "code",
   "execution_count": null,
   "metadata": {},
   "outputs": [],
   "source": [
    "#Filtro las publicaciones que no tienen antiguedad ni precio\n",
    "\n",
    "df_filtrado_antiguedad = df_filtrado_antiguedad.loc[df_filtrado_antiguedad['antiguedad']>=0]\n",
    "df_filtrado_antiguedad = df_filtrado_antiguedad.loc[df_filtrado_antiguedad['precio']>0]\n",
    "\n",
    "#Calculo precio por m2\n",
    "\n",
    "df_filtrado_antiguedad['precioporm2'] = df_filtrado_antiguedad['precio'] / df_filtrado_antiguedad['metrostotales']"
   ]
  },
  {
   "cell_type": "code",
   "execution_count": null,
   "metadata": {},
   "outputs": [],
   "source": [
    "#Calculo el promedio de precioporm2 segun la antiguedad por tipo (Casa, Apartamento, Casa en condominio)\n",
    "\n",
    "df_filtered_casa = df_filtrado_antiguedad.loc[df_filtrado_antiguedad['tipo'] == 'Casa']\n",
    "preciom2_segun_antiguedad_casa = df_filtered_casa.groupby('antiguedad').agg({'precioporm2' : 'mean', 'id' : 'count'})\n",
    "preciom2_segun_antiguedad_casa.reset_index(inplace = True)\n",
    "preciom2_segun_antiguedad_casa.columns = ['antiguedad', 'precioporm2', 'cantidaddepublicaciones']\n",
    "\n",
    "df_filtered_apartamento = df_filtrado_antiguedad.loc[df_filtrado_antiguedad['tipo'] == 'Apartamento']\n",
    "preciom2_segun_antiguedad_apartamento = df_filtered_apartamento.groupby('antiguedad').agg({'precioporm2' : 'mean', 'id' : 'count'})\n",
    "preciom2_segun_antiguedad_apartamento.reset_index(inplace = True)\n",
    "preciom2_segun_antiguedad_apartamento.columns = ['antiguedad', 'precioporm2', 'cantidaddepublicaciones']\n",
    "\n",
    "df_filtered_casa_condo = df_filtrado_antiguedad.loc[df_filtrado_antiguedad['tipo'] == 'Casa en condominio']\n",
    "preciom2_segun_antiguedad_casa_condo = df_filtered_casa_condo.groupby('antiguedad').agg({'precioporm2' : 'mean', 'id' : 'count'})\n",
    "preciom2_segun_antiguedad_casa_condo.reset_index(inplace = True)\n",
    "preciom2_segun_antiguedad_casa_condo.columns = ['antiguedad', 'precioporm2', 'cantidaddepublicaciones']"
   ]
  },
  {
   "cell_type": "code",
   "execution_count": null,
   "metadata": {},
   "outputs": [],
   "source": [
    "#Filtro aquellos anios de antiguedad que tengan muy pocas publciaciones, asi se toman valores muestrales representativos.\n",
    "\n",
    "cantidad_promedio_casa = preciom2_segun_antiguedad_casa['cantidaddepublicaciones'].mean()\n",
    "preciom2_segun_antiguedad_casa = preciom2_segun_antiguedad_casa.loc[preciom2_segun_antiguedad_casa['cantidaddepublicaciones'] >= 0.05*cantidad_promedio_casa]\n",
    "\n",
    "cantidad_promedio_apartamento = preciom2_segun_antiguedad_apartamento['cantidaddepublicaciones'].mean()\n",
    "preciom2_segun_antiguedad_apartamento = preciom2_segun_antiguedad_apartamento\\\n",
    "                            .loc[preciom2_segun_antiguedad_apartamento['cantidaddepublicaciones'] >= 0.05*cantidad_promedio_apartamento]\n",
    "\n",
    "cantidad_promedio_casa_condo = preciom2_segun_antiguedad_casa_condo['cantidaddepublicaciones'].mean()\n",
    "preciom2_segun_antiguedad_casa_condo = preciom2_segun_antiguedad_casa_condo\\\n",
    "                            .loc[preciom2_segun_antiguedad_casa_condo['cantidaddepublicaciones'] >= 0.1*cantidad_promedio_casa_condo]"
   ]
  },
  {
   "cell_type": "code",
   "execution_count": null,
   "metadata": {},
   "outputs": [],
   "source": [
    "#Precio del metro cuadrado en Casas / Apartamentos / Casas en Condominio vs Antiguedad\n",
    "sns.regplot(x=preciom2_segun_antiguedad_casa[\"antiguedad\"], y=preciom2_segun_antiguedad_casa[\"precioporm2\"], fit_reg = False, color = 'black')\\\n",
    "                            .set_title(\"Precio del m2 vs Antiguedad en Casas\")"
   ]
  },
  {
   "cell_type": "code",
   "execution_count": null,
   "metadata": {},
   "outputs": [],
   "source": [
    "sns.regplot(x=preciom2_segun_antiguedad_apartamento[\"antiguedad\"], y=preciom2_segun_antiguedad_apartamento[\"precioporm2\"], fit_reg = False, color = 'orange')\\\n",
    "                            .set_title(\"Precio del m2 vs Antiguedad en Apartamentos\")"
   ]
  },
  {
   "cell_type": "code",
   "execution_count": null,
   "metadata": {},
   "outputs": [],
   "source": [
    "sns.regplot(x=preciom2_segun_antiguedad_casa_condo[\"antiguedad\"], y=preciom2_segun_antiguedad_casa_condo[\"precioporm2\"], fit_reg = False, color = 'olive')\\\n",
    "                            .set_title(\"Precio del m2 vs Antiguedad en Casa en condominio\")"
   ]
  },
  {
   "cell_type": "markdown",
   "metadata": {},
   "source": [
    "## **Analisis segun cantidad de banios, habitaciones, garages**"
   ]
  },
  {
   "cell_type": "code",
   "execution_count": null,
   "metadata": {},
   "outputs": [],
   "source": [
    "#Analisis de cantidad de banios y habitaciones\n",
    "\n",
    "#Sera efectuado unicamente sobre Casas, Apartamentos y Casa en condominio\n",
    "df_filtrado_cantidades = df_filtrado.loc[(df_filtrado['tipo'] != 'Otros') | (df_filtrado['tipo'] != 'Terreno')]\n",
    "\n",
    "#Me quedo con aquellos que tengan al menos una habitacion\n",
    "df_filtrado_cantidades = df_filtrado_cantidades.loc[df_filtrado_cantidades['cant_habitaciones'] > 0]"
   ]
  },
  {
   "cell_type": "code",
   "execution_count": null,
   "metadata": {},
   "outputs": [],
   "source": [
    "habitaciones_grouped = df_filtrado_cantidades.groupby('cant_habitaciones').agg({'id' : 'count'})\n",
    "habitaciones_grouped.columns = ['cantidad_propiedades']\n",
    "habitaciones_grouped.reset_index(inplace = True)\n",
    "habitaciones_grouped['cant_habitaciones'] = habitaciones_grouped['cant_habitaciones'].apply(lambda x: x if x < 6 else \"6+\")\n",
    "habitaciones_grouped = habitaciones_grouped.groupby('cant_habitaciones').agg({'cantidad_propiedades':'sum'})\n",
    "habitaciones_grouped\n"
   ]
  },
  {
   "cell_type": "code",
   "execution_count": null,
   "metadata": {},
   "outputs": [],
   "source": [
    "habitaciones_grouped.plot(kind='pie', figsize=(5,5),cmap='Accent',fontsize=11, y = 'cantidad_propiedades')\n",
    "plt.title('Cantidad de habitaciones', fontsize = 18)\n",
    "plt.ylabel('')\n",
    "plt.show();"
   ]
  },
  {
   "cell_type": "code",
   "execution_count": null,
   "metadata": {},
   "outputs": [],
   "source": [
    "#Precio vs cantidad de habitaciones\n",
    "precio_por_habitaciones = df_filtrado_cantidades.groupby('cant_habitaciones').agg({'precio' : 'mean'})\n",
    "precio_por_habitaciones.reset_index(inplace = True)\n",
    "precio_por_habitaciones.columns = ['cantidad_de_habitaciones', 'precio_promedio']"
   ]
  },
  {
   "cell_type": "code",
   "execution_count": null,
   "metadata": {},
   "outputs": [],
   "source": [
    "sns.regplot(x=precio_por_habitaciones[\"cantidad_de_habitaciones\"], y=precio_por_habitaciones[\"precio_promedio\"], color = 'blue')\\\n",
    "                .set_title(\"Precio promedio vs cantidad de habitaciones\")"
   ]
  },
  {
   "cell_type": "code",
   "execution_count": null,
   "metadata": {},
   "outputs": [],
   "source": [
    "#Precio promedio vs cantidad de banos\n",
    "\n",
    "#Filtro aquellos que no tengan banos\n",
    "df_filtrado_cantidades = df_filtrado_cantidades.loc[df_filtrado_cantidades['cant_banios'] > 0]"
   ]
  },
  {
   "cell_type": "code",
   "execution_count": null,
   "metadata": {},
   "outputs": [],
   "source": [
    "banios_grouped = df_filtrado_cantidades.groupby('cant_banios').size().plot(kind='pie', figsize=(5,5),cmap='Accent',fontsize=11)\n",
    "plt.title('Cantidad de banios', fontsize = 18)\n",
    "plt.ylabel('')\n",
    "plt.show();"
   ]
  },
  {
   "cell_type": "code",
   "execution_count": null,
   "metadata": {},
   "outputs": [],
   "source": [
    "#Agrupo por cantidad de banos y calculo precio promedio\n",
    "precio_por_banos = df_filtrado_cantidades.groupby('cant_banios').agg({'precio' : 'mean'})\n",
    "precio_por_banos.reset_index(inplace = True)\n",
    "precio_por_banos.columns = ['cantidad_de_banos', 'precio_promedio']\n",
    "\n",
    "sns.regplot(x=precio_por_banos[\"cantidad_de_banos\"], y=precio_por_banos[\"precio_promedio\"], color = 'olive')\\\n",
    "                .set_title(\"Precio promedio vs cantidad de banos\")"
   ]
  },
  {
   "cell_type": "code",
   "execution_count": null,
   "metadata": {},
   "outputs": [],
   "source": [
    "#Precio promedio vs cantidad de garages\n",
    "\n",
    "#Filtro aquellos que no tengan garages\n",
    "df_filtrado_cantidades = df_filtrado_cantidades.loc[df_filtrado_cantidades['cant_garages'] > 0]"
   ]
  },
  {
   "cell_type": "code",
   "execution_count": null,
   "metadata": {},
   "outputs": [],
   "source": [
    "banios_grouped = df_filtrado_cantidades.groupby('cant_garages').size().plot(kind='pie', figsize=(5,5),cmap='Accent',fontsize=11)\n",
    "plt.title('Cantidad de garages', fontsize = 18)\n",
    "plt.ylabel('')\n",
    "plt.show();"
   ]
  },
  {
   "cell_type": "code",
   "execution_count": null,
   "metadata": {},
   "outputs": [],
   "source": [
    "#Agrupo por cantidad de garages y calculo precio promedio\n",
    "precio_por_garages = df_filtrado_cantidades.groupby('cant_garages').agg({'precio' : 'mean'})\n",
    "precio_por_garages.reset_index(inplace = True)\n",
    "precio_por_garages.columns = ['cantidad_de_garages', 'precio_promedio']\n",
    "\n",
    "sns.regplot(x=precio_por_garages[\"cantidad_de_garages\"], y=precio_por_garages[\"precio_promedio\"], color = 'black')\\\n",
    "                .set_title(\"Precio promedio vs cantidad de garages\")"
   ]
  },
  {
   "cell_type": "code",
   "execution_count": null,
   "metadata": {},
   "outputs": [],
   "source": [
    "#Analizo en conjunto el precio vs cantidad_de_habitaciones, cantidad_de_banios, cantidad_de_garages\n",
    "\n",
    "#Quito las publicaciones con mas de cuatro habitaciones asi ajusta la interseccion de las 3 categorias. La tendencia, de todas formas, ya se analizo por separado\n",
    "\n",
    "precio_por_habitaciones = precio_por_habitaciones.drop([x for x in range(4, 10)])\n",
    "\n",
    "plt.plot( 'cantidad_de_habitaciones', 'precio_promedio', data=precio_por_habitaciones, marker='', markerfacecolor='blue', color='blue', linewidth=4, label = \"habitaciones\")\n",
    "plt.plot( 'cantidad_de_banos', 'precio_promedio', data=precio_por_banos, marker='', color='olive', linewidth=4, label = \"banios\")\n",
    "plt.plot( 'cantidad_de_garages', 'precio_promedio', data=precio_por_garages, marker='', color='black', linewidth=4, label=\"garages\")\n",
    "plt.legend()"
   ]
  },
  {
   "cell_type": "markdown",
   "metadata": {},
   "source": [
    "## **Análisis de las descripciones**"
   ]
  },
  {
   "cell_type": "code",
   "execution_count": null,
   "metadata": {},
   "outputs": [],
   "source": [
    "#Filtro aquellas publicaciones que no tengan descripciones\n",
    "df_filtrado_descripciones = df_filtrado.loc[~df_filtrado.descripcion.isnull()]"
   ]
  },
  {
   "cell_type": "code",
   "execution_count": null,
   "metadata": {},
   "outputs": [],
   "source": [
    "def filtrar_descripciones(descripcion):\n",
    "    descripcion = descripcion.replace(\"\\n\", \"\")\n",
    "    descripcion = descripcion.replace(\"<p>\", \"\")\n",
    "    descripcion = descripcion.replace(\"<\\p>\", \"\")\n",
    "    descripcion = descripcion.replace(\"nbsp\", \"\")\n",
    "    descripcion = descripcion.replace(\"ntilde\", \"\")\n",
    "    descripcion = descripcion.replace(\"ntil\", \"\")\n",
    "    descripcion = descripcion.replace(\"strong\",\"\")\n",
    "    palabras = descripcion.split()\n",
    "    for palabra in palabras:\n",
    "        if len(palabra) <= 3:\n",
    "            palabras.remove(palabra)\n",
    "    descripcion_final = \" \".join(palabras)\n",
    "    return descripcion_final\n",
    "\n",
    "df_filtrado_descripciones['descripcion'] = df_filtrado_descripciones['descripcion'].apply(filtrar_descripciones)"
   ]
  },
  {
   "cell_type": "code",
   "execution_count": null,
   "metadata": {},
   "outputs": [],
   "source": [
    "descripciones = \" \".join(descripcion for descripcion in df_filtrado_descripciones.descripcion)\n",
    "print (\"Hay {} palabras en total que conforman todas las descripciones\".format(len(descripciones)))"
   ]
  },
  {
   "cell_type": "code",
   "execution_count": null,
   "metadata": {},
   "outputs": [],
   "source": [
    "#Ajusto el WordCloud a la forma de una casa\n",
    "mascara_casa = np.array(Image.open(\"files/casa.png\"))\n",
    "mascara_casa"
   ]
  },
  {
   "cell_type": "code",
   "execution_count": null,
   "metadata": {},
   "outputs": [],
   "source": [
    "def transformar_formato(valor):\n",
    "    if valor == 0:\n",
    "        return 255\n",
    "    else:\n",
    "        return valor\n",
    "\n",
    "mascara_casa_transformada = np.ndarray((mascara_casa.shape[0],mascara_casa.shape[1]), np.int32)\n",
    "for i in range(len(mascara_casa)):\n",
    "    mascara_casa_transformada[i] = list(map(transformar_formato, mascara_casa[i]))\n",
    "    \n",
    "mascara_casa_transformada"
   ]
  },
  {
   "cell_type": "code",
   "execution_count": null,
   "metadata": {},
   "outputs": [],
   "source": [
    "# Creo la imagen del WordCloud\n",
    "wc = WordCloud(background_color=\"white\", max_words=1000, mask=mascara_casa_transformada, contour_width=3, contour_color='black')\n",
    "\n",
    "# Genero a partir de las palabras de las descripciones\n",
    "wc.generate(descripciones)\n",
    "\n",
    "# Lo guardo en un archivo\n",
    "wc.to_file(\"files/wordcloud_casa.png\")\n",
    "\n",
    "# Mostrar\n",
    "plt.figure(figsize=[20,10])\n",
    "plt.imshow(wc, interpolation='bilinear')\n",
    "plt.axis(\"off\")\n",
    "plt.show()"
   ]
  },
  {
   "cell_type": "markdown",
   "metadata": {},
   "source": [
    "## **Análisis por provincia**"
   ]
  },
  {
   "cell_type": "markdown",
   "metadata": {},
   "source": [
    "### **Cantidad de publicaciones por provincia**"
   ]
  },
  {
   "cell_type": "code",
   "execution_count": null,
   "metadata": {},
   "outputs": [],
   "source": [
    "state_geo = 'files/mexican_states.json'"
   ]
  },
  {
   "cell_type": "code",
   "execution_count": null,
   "metadata": {},
   "outputs": [],
   "source": [
    "#Veo cuantas publicaciones hay por estado\n",
    "\n",
    "#Primero, filtro aquellos que no tengan info del estado:\n",
    "df_filtrado_provincias = df_filtrado.loc[~df_filtrado['provincia'].isnull()]"
   ]
  },
  {
   "cell_type": "code",
   "execution_count": null,
   "metadata": {},
   "outputs": [],
   "source": [
    "#Reemplazo los nombres por los del GeoJSON\n",
    "df_filtrado_provincias['provincia'] = df_filtrado_provincias['provincia'].replace({'Edo. de México' : 'Mexico',\n",
    "                                               'Querétaro' : 'Queretaro',\n",
    "                                               'Nuevo León' : 'Nuevo Leon',\n",
    "                                               'San luis Potosí' : 'San Luis Potosi',\n",
    "                                               'Yucatán' : 'Yucatan',\n",
    "                                               'Baja California Norte' : 'Baja California',\n",
    "                                               'Michoacán' : 'Michoacan'})"
   ]
  },
  {
   "cell_type": "code",
   "execution_count": null,
   "metadata": {},
   "outputs": [],
   "source": [
    "#Sumo la cantidad de publicaciones por provincia\n",
    "cantidad_por_provincia = df_filtrado_provincias.groupby('provincia').agg({'id' : 'count'})\n",
    "cantidad_por_provincia.reset_index(inplace = True)\n",
    "cantidad_por_provincia.columns = ['provincia', 'cantidad_de_publicaciones']"
   ]
  },
  {
   "cell_type": "code",
   "execution_count": null,
   "metadata": {},
   "outputs": [],
   "source": [
    "#Inicializo mapa con folium\n",
    "mapa = folium.Map(location=[21, -101], zoom_start=5)\n",
    "#mapa"
   ]
  },
  {
   "cell_type": "code",
   "execution_count": null,
   "metadata": {},
   "outputs": [],
   "source": [
    "folium.Choropleth(\n",
    "    geo_data=state_geo,\n",
    "    name='choropleth',\n",
    "    data=cantidad_por_provincia,\n",
    "    columns=['provincia', 'cantidad_de_publicaciones'],\n",
    "    key_on='properties.admin_name',\n",
    "    fill_color='YlGn',\n",
    "    fill_opacity=0.7,\n",
    "    line_opacity=0.2,\n",
    "    legend_name='Cantidad de publicaciones por Provincia'\n",
    ").add_to(mapa)\n",
    "\n",
    "folium.LayerControl().add_to(mapa)\n",
    "\n",
    "mapa"
   ]
  },
  {
   "cell_type": "markdown",
   "metadata": {},
   "source": [
    "## **Provincias más caras** (precio por m2 promedio por provincia)"
   ]
  },
  {
   "cell_type": "code",
   "execution_count": null,
   "metadata": {},
   "outputs": [],
   "source": [
    "#Analizo el precio por m2 promedio por provincia\n",
    "\n",
    "#Sera efectuado unicamente sobre Casas, Apartamentos y Casa en condominio\n",
    "\n",
    "df_filtrado_provincias = df_filtrado_provincias.loc[(df_filtrado['tipo'] != 'Otros') | (df_filtrado['tipo'] != 'Terreno')]\n",
    "\n",
    "#Me quedo con aquellas cuyo precio sea mayor a cero\n",
    "\n",
    "df_filtrado_provincias = df_filtrado_provincias.loc[df_filtrado_provincias['precioporm2'] > 0]"
   ]
  },
  {
   "cell_type": "code",
   "execution_count": null,
   "metadata": {},
   "outputs": [],
   "source": [
    "#Calculo el precio promedio por provincia\n",
    "precio_promedio_provincia = df_filtrado_provincias.groupby('provincia').agg({'precioporm2' : 'mean'})\n",
    "precio_promedio_provincia.reset_index(inplace = True)\n",
    "precio_promedio_provincia.columns = ['provincia', 'precio_por_m2_mean']"
   ]
  },
  {
   "cell_type": "code",
   "execution_count": null,
   "metadata": {},
   "outputs": [],
   "source": [
    "#Inicializo mapa con folium\n",
    "mapa = folium.Map(location=[21, -101], zoom_start=5)\n",
    "#mapa"
   ]
  },
  {
   "cell_type": "code",
   "execution_count": null,
   "metadata": {},
   "outputs": [],
   "source": [
    "folium.Choropleth(\n",
    "    geo_data=state_geo,\n",
    "    name='choropleth',\n",
    "    data=precio_promedio_provincia,\n",
    "    columns=['provincia', 'precio_por_m2_mean'],\n",
    "    key_on='properties.admin_name',\n",
    "    fill_color='YlGn',\n",
    "    fill_opacity=0.7,\n",
    "    line_opacity=0.2,\n",
    "    legend_name='Cantidad de publicaciones por Provincia'\n",
    ").add_to(mapa)\n",
    "\n",
    "folium.LayerControl().add_to(mapa)\n",
    "\n",
    "mapa"
   ]
  },
  {
   "cell_type": "code",
   "execution_count": null,
   "metadata": {},
   "outputs": [],
   "source": [
    "precio_promedio_provincia = precio_promedio_provincia.sort_values(by = 'precio_por_m2_mean', ascending = False)\n",
    "precio_promedio_provincia"
   ]
  },
  {
   "cell_type": "code",
   "execution_count": null,
   "metadata": {},
   "outputs": [],
   "source": [
    "#Las cinco provincias cuyo precio promedio por m2 es mas alto\n",
    "\n",
    "graph = precio_promedio_provincia.head(5).sort_values(by = 'precio_por_m2_mean').plot.barh(figsize=(15,5),color='darkred',fontsize=15, x = 'provincia', y = 'precio_por_m2_mean')\n",
    "graph.set_title(\"Top 5 provincias más caras del México\", fontsize=20)\n",
    "graph.set_ylabel(\"Provincia\", fontsize=18)\n",
    "graph.set_xlabel(\"$MX/m2\", fontsize=18)\n",
    "plt.show()"
   ]
  },
  {
   "cell_type": "code",
   "execution_count": null,
   "metadata": {},
   "outputs": [],
   "source": [
    "#Las cinco provincias cuyo precio por m2 es mas bajo\n",
    "\n",
    "graph = precio_promedio_provincia.tail(5).sort_values(by = 'precio_por_m2_mean', ascending = False).plot.barh(figsize=(15,5),color='lightblue',fontsize=15, x = 'provincia', y = 'precio_por_m2_mean')\n",
    "graph.set_title(\"Top 5 provincias más baratas del México\", fontsize=20)\n",
    "graph.set_ylabel(\"Provincia\", fontsize=18)\n",
    "graph.set_xlabel(\"$MX/m2\", fontsize=18)\n",
    "plt.show()"
   ]
  },
  {
   "cell_type": "code",
   "execution_count": null,
   "metadata": {},
   "outputs": [],
   "source": []
  },
  {
   "cell_type": "code",
   "execution_count": null,
   "metadata": {},
   "outputs": [],
   "source": []
  },
  {
   "cell_type": "markdown",
   "metadata": {},
   "source": [
    "# Posibles 'extras'"
   ]
  },
  {
   "cell_type": "code",
   "execution_count": null,
   "metadata": {},
   "outputs": [],
   "source": [
    "# Veremos primero la cantidad total de propiedades que tienen cada extra en un diagrama de conjuntos (Venn)\n",
    "\n",
    "posibles_extras = ['piscina', 'gimnasio', 'usosmultiples']\n",
    "\n",
    "def contar_extras(df):\n",
    "    valor = {}\n",
    "    valor['valor'] = max([df[extra].sum() for extra in posibles_extras])\n",
    "    return pd.Series(valor)\n",
    "\n",
    "# Generamos un dataframe con un índice múltiple indicando si está el dado extra o no\n",
    "\n",
    "cantidad_extras = df_original.groupby(posibles_extras)[posibles_extras].apply(contar_extras)\n",
    "cantidad_extras.loc[False, False, False] = df_original.shape[0]-cantidad_extras['valor'].sum()\n",
    "cantidad_extras"
   ]
  },
  {
   "cell_type": "code",
   "execution_count": null,
   "metadata": {},
   "outputs": [],
   "source": [
    "# Diagrama de venn de la cantidad de cada extra\n",
    "\n",
    "plt.title(\"Diagrama de Venn con cantidades de cada extra\")\n",
    "\n",
    "venn3(subsets = cantidad_extras['valor'][1:], set_labels=cantidad_extras.index.names, ax=plt.gca())\n",
    "venn3_circles(subsets = cantidad_extras['valor'][1:], linewidth=0.5, color=\"white\")\n",
    "\n",
    "plt.annotate(f'ninguno:\\n{cantidad_extras.loc[False, False, False].valor}',xy = np.array([-0.3, 0.05]), xytext=(-70,-70),\\\n",
    "ha='center', textcoords='offset points')\n",
    "\n",
    "plt.show()\n"
   ]
  },
  {
   "cell_type": "code",
   "execution_count": null,
   "metadata": {},
   "outputs": [],
   "source": [
    "# Veremos qué porcentaje de cada tipo tiene cada extra\n",
    "\n",
    "tipo_por_extra = df_original.groupby('tipo').agg({extra:'sum' for extra in posibles_extras})\n",
    "tipo_por_extra"
   ]
  },
  {
   "cell_type": "code",
   "execution_count": null,
   "metadata": {},
   "outputs": [],
   "source": [
    "# Consideramos que el valor de 'gimnasio' para el terreno es despreciable, así que lo seteamos a 0\n",
    "\n",
    "tipo_por_extra['gimnasio'].loc['Terreno'] = 0\n",
    "\n",
    "# Generamos un diagrama en forma de 'dona' para las cantidades de cada tipo por cada extra\n",
    "\n",
    "fig, ax = plt.subplots()\n",
    "\n",
    "colores = [plt.cm.Reds, plt.cm.Greens, plt.cm.Blues]\n",
    "\n",
    "# Anillo interior (extras)\n",
    "anillo1, _ = ax.pie([tipo_por_extra[extra].sum() for extra in posibles_extras], radius=1.5,\\\n",
    "                  labels=posibles_extras, labeldistance=0.65, colors=[color(0.7) for color in colores])\n",
    "plt.setp(anillo1, width=0.6, edgecolor='white')\n",
    " \n",
    "# Anillo exterior (tipo por cada extra)\n",
    "subgrupos = [tipo.split(' ')[-1][:5] for i in range(3) for tipo in tipo_por_extra.index]\n",
    "subgrupos.pop(9) # Eliminamos 'Terreno' para gimnasio y usosmultiples\n",
    "subgrupos.pop(13)\n",
    "\n",
    "anillo2, _ = ax.pie([x for columna in tipo_por_extra.columns for x in tipo_por_extra[columna] if x != 0], radius=2.1,\\\n",
    "                    labels=subgrupos, labeldistance=0.8,\\\n",
    "                    colors=[colores[0](i/10) for i in range(6, 1, -1)] + [color(i/10) for color in colores[1:] for i in range(6,2,-1)])\n",
    "plt.setp(anillo2, width=0.6, edgecolor='white')\n",
    "\n",
    "fig.patch.set_facecolor('white')\n",
    "plt.title('Cantidad de cada tipo por cada extra',pad=100, fontsize=16)\n",
    "plt.margins(0,0) \n",
    "plt.show()\n"
   ]
  },
  {
   "cell_type": "markdown",
   "metadata": {},
   "source": [
    "# Analizar el precio y relacion con metros"
   ]
  },
  {
   "cell_type": "code",
   "execution_count": 28,
   "metadata": {},
   "outputs": [
    {
     "data": {
      "text/plain": [
       "<matplotlib.axes._subplots.AxesSubplot at 0x7f28cfb8e860>"
      ]
     },
     "execution_count": 28,
     "metadata": {},
     "output_type": "execute_result"
    },
    {
     "data": {
      "image/png": "[encoded data removed]",
      "text/plain": [
       "<matplotlib.figure.Figure at 0x7f28cfb8e6d8>"
      ]
     },
     "metadata": {
      "needs_background": "light"
     },
     "output_type": "display_data"
    }
   ],
   "source": [
    "#analiazando distribucion generar de precio por metros\n",
    "figure = plt.figure()\n",
    "\n",
    "plt.title('Distribucion del precio por metros', color = 'black')\n",
    "\n",
    "sns.set_context('talk')\n",
    "sns.set_context('talk')\n",
    "sns.distplot(df_filtrado['precio por metros'],axlabel = \"Precio por metros\",\\\n",
    "            kde_kws={\"color\": \"lime\", \"lw\":4, \"label\": \"Kernel Density Estimate\"},\\\n",
    "            hist_kws={\"linewidth\": 10, \"alpha\": 0.5, \"color\": \"b\"})"
   ]
  },
  {
   "cell_type": "code",
   "execution_count": null,
   "metadata": {},
   "outputs": [],
   "source": [
    "#distribucion de precio y metros totales\n",
    "sns.jointplot(x=df_filtrado[\"precio\"], y=df_filtrado[\"metrostotales\"], kind = 'kde', s=200, color='m', edgecolor=\"skyblue\", linewidth=2)"
   ]
  },
  {
   "cell_type": "markdown",
   "metadata": {},
   "source": [
    "# Analizar precio por metros con ciudades"
   ]
  },
  {
   "cell_type": "code",
   "execution_count": null,
   "metadata": {},
   "outputs": [],
   "source": [
    "#analizando top 10 ciudades del pais con mayor precio por metros\n",
    "df_ciudad = df_filtrado.groupby('ciudad').agg({'precio por metros':'mean'})\n",
    "df_ciudad_top10 = df_ciudad[['precio por metros']].sort_values('precio por metros', ascending = False)[:10]\n",
    "df_ciudad_top10\n",
    "df_ciudad_top10.sort_values('precio por metros').plot(kind='bar',figsize=(16,8), color=(0, 0, 0.75),title = 'Top10 promedio de precio por metros de ciudad del pais' )"
   ]
  },
  {
   "cell_type": "code",
   "execution_count": null,
   "metadata": {},
   "outputs": [],
   "source": [
    "#analizando bottom 10 ciudades del pais con menor precio por metros\n",
    "df_ciudad_bottom10 = df_ciudad[['precio por metros']].sort_values('precio por metros', ascending = True)[0:10]\n",
    "df_ciudad_bottom10\n",
    "df_ciudad_bottom10.sort_values('precio por metros').plot(kind='bar',figsize=(16,8), color=(0.75, 0.75, 0),title = 'Bottom10 promedio de precio por metros de ciudad del pais' )"
   ]
  },
  {
   "cell_type": "code",
   "execution_count": null,
   "metadata": {},
   "outputs": [],
   "source": [
    "#analizo top 5 provincias con mayor publicacion de ventas\n",
    "df_filtrado['provincia'].value_counts(normalize = 1)"
   ]
  }
 ],
 "metadata": {
  "kernelspec": {
   "display_name": "Python 3",
   "language": "python",
   "name": "python3"
  },
  "language_info": {
   "codemirror_mode": {
    "name": "ipython",
    "version": 3
   },
   "file_extension": ".py",
   "mimetype": "text/x-python",
   "name": "python",
   "nbconvert_exporter": "python",
   "pygments_lexer": "ipython3",
   "version": "3.6.8"
  }
 },
 "nbformat": 4,
 "nbformat_minor": 4
}
